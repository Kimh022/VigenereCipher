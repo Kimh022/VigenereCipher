{
  "nbformat": 4,
  "nbformat_minor": 0,
  "metadata": {
    "colab": {
      "provenance": []
    },
    "kernelspec": {
      "name": "python3",
      "display_name": "Python 3"
    },
    "language_info": {
      "name": "python"
    }
  },
  "cells": [
    {
      "cell_type": "code",
      "execution_count": null,
      "metadata": {
        "colab": {
          "base_uri": "https://localhost:8080/"
        },
        "id": "aghCeGGAsDFs",
        "outputId": "37a57344-b140-4aa2-a03d-18895eed2090"
      },
      "outputs": [
        {
          "output_type": "stream",
          "name": "stdout",
          "text": [
            "THISISATEXT\n",
            "TZTCLBFEEBW\n",
            "VVUWBUOFILV\n"
          ]
        }
      ],
      "source": [
        "def vigEnc(m,k = 'comet'):\n",
        "  abc = \"abcdefghijklmnopqrstuvwxyz\"\n",
        "  ptext = \"\"\n",
        "  ctext = \"\"\n",
        "  k2 = \"\"\n",
        "  key = \"\"\n",
        "\n",
        "  for char in m:\n",
        "    if char in abc:\n",
        "      ptext += char\n",
        "  # this is to throw out anything that isnt part of the english alphabet\n",
        "\n",
        "\n",
        "  for char in k:\n",
        "    if char in abc:\n",
        "      k2 += char\n",
        "  # this is to make sure the key is all alphabets\n",
        "\n",
        "\n",
        "  l = len(k2)\n",
        "\n",
        "  for i in range(len(ptext)):\n",
        "    key += k2[i%l]\n",
        "  # this is to make the key the same length as the message\n",
        "\n",
        "  mnums = [abc.find(char) for char in ptext]\n",
        "  # this is a list of the alphabet turned into numbers for convience\n",
        "  knums = [abc.find(char) for char in key]\n",
        "  # this is a list of the alphabet turned into numbers for convience\n",
        "\n",
        "  for i in range(len(mnums)):\n",
        "    n = (mnums[i] + knums[i]) % 26\n",
        "    ctext += abc[n]\n",
        "  # this actually decrypts the message\n",
        "\n",
        "  return ctext.upper()\n",
        "\n",
        "print(vigEnc(\"thisisatext\",\"a\"))\n",
        "print(vigEnc(\"this is a test\", \"aslkdjflajdsglkjklaweq\"))\n",
        "print(vigEnc(\"this isa test\"))"
      ]
    },
    {
      "cell_type": "code",
      "source": [],
      "metadata": {
        "id": "Kvfl3eHbspd5"
      },
      "execution_count": null,
      "outputs": []
    }
  ]
}